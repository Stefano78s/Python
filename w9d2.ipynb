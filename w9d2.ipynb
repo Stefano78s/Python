{
 "cells": [
  {
   "cell_type": "code",
   "execution_count": 15,
   "id": "cf251c5d-a83f-451f-8142-b40aa772c999",
   "metadata": {},
   "outputs": [
    {
     "name": "stdout",
     "output_type": "stream",
     "text": [
      "E\n",
      "p\n",
      "i\n",
      "c\n",
      "o\n",
      "d\n",
      "e\n"
     ]
    }
   ],
   "source": [
    "\n",
    "#esercizio w9d2\n",
    "nome_scuola = \"Epicode\"\n",
    "contatore = 0\n",
    "lunghezza = len(nome_scuola)\n",
    "\n",
    "\n",
    "while contatore < len(nome_scuola):\n",
    "    print(nome_scuola[contatore])\n",
    "    contatore += 1"
   ]
  },
  {
   "cell_type": "code",
   "execution_count": 16,
   "id": "526ce1c2-06e2-48ec-a1e1-e57c59f2f8a1",
   "metadata": {},
   "outputs": [
    {
     "name": "stdout",
     "output_type": "stream",
     "text": [
      "E\n",
      "p\n",
      "i\n",
      "c\n",
      "o\n",
      "d\n",
      "e\n"
     ]
    }
   ],
   "source": [
    "for lettera in nome_scuola :\n",
    "    print(lettera)"
   ]
  },
  {
   "cell_type": "code",
   "execution_count": 19,
   "id": "dbaedd33-c316-492e-ad89-edfcfdca9b9a",
   "metadata": {},
   "outputs": [
    {
     "name": "stdout",
     "output_type": "stream",
     "text": [
      "0\n",
      "1\n",
      "2\n",
      "3\n",
      "4\n",
      "5\n",
      "6\n",
      "7\n",
      "8\n",
      "9\n",
      "10\n",
      "11\n",
      "12\n",
      "13\n",
      "14\n",
      "15\n",
      "16\n",
      "17\n",
      "18\n",
      "19\n",
      "20\n"
     ]
    }
   ],
   "source": [
    "#Stampare a video tutti i numeri da 0 a 20 utilizzando il costrutto while.\n",
    "numero = 0\n",
    "limite = 20\n",
    "\n",
    "while numero <= limite :\n",
    "    print (numero)\n",
    "    numero+=1\n",
    "\n",
    "\n",
    "\n",
    "\n"
   ]
  },
  {
   "cell_type": "code",
   "execution_count": 2,
   "id": "6cb79543-4982-4f75-9198-2b1a3bb1ac7f",
   "metadata": {},
   "outputs": [
    {
     "name": "stdout",
     "output_type": "stream",
     "text": [
      "1\n",
      "2\n",
      "4\n",
      "8\n",
      "16\n",
      "32\n",
      "64\n",
      "128\n",
      "256\n",
      "512\n"
     ]
    }
   ],
   "source": [
    "#Calcolare e stampare tutte le prime 10 potenze di 2 (e.g., 2⁰, 2¹, 2², …) utilizzando un ciclo while.\n",
    "numero = 0\n",
    "limite = 10\n",
    "while numero < limite :\n",
    "    print(2 ** numero)\n",
    "    numero+=1\n",
    "\n"
   ]
  },
  {
   "cell_type": "code",
   "execution_count": 12,
   "id": "169fdb36-e0c0-4932-b51b-e3e28e096b81",
   "metadata": {},
   "outputs": [
    {
     "name": "stdin",
     "output_type": "stream",
     "text": [
      "dammi un numero 6\n"
     ]
    },
    {
     "name": "stdout",
     "output_type": "stream",
     "text": [
      "2^ 0 = 1\n",
      "2^ 1 = 2\n",
      "2^ 2 = 4\n",
      "2^ 3 = 8\n",
      "2^ 4 = 16\n",
      "2^ 5 = 32\n"
     ]
    }
   ],
   "source": [
    "#Esercizio Calcolare e stampare tutte le prime N potenze di 2 utilizzando un ciclo while, \n",
    "#domandando all'utente di inserire N.\n",
    "\n",
    "N = int(input(\"dammi un numero\"))\n",
    "\n",
    "numero = 0\n",
    "\n",
    "while numero < N:\n",
    "    print(\"2^\", numero, \"=\", 2 ** numero)\n",
    "    numero += 1\n",
    "\n",
    "    \n"
   ]
  },
  {
   "cell_type": "code",
   "execution_count": 3,
   "id": "63d9044a-b62a-463c-ab1b-07a468268095",
   "metadata": {},
   "outputs": [
    {
     "name": "stdout",
     "output_type": "stream",
     "text": [
      "2^ 1 = 2\n",
      "2^ 2 = 4\n",
      "2^ 3 = 8\n",
      "2^ 4 = 16\n",
      "2^ 5 = 32\n",
      "2^ 6 = 64\n",
      "2^ 7 = 128\n",
      "2^ 8 = 256\n",
      "2^ 9 = 512\n",
      "2^ 10 = 1024\n",
      "2^ 11 = 2048\n",
      "2^ 12 = 4096\n",
      "2^ 13 = 8192\n",
      "2^ 14 = 16384\n",
      "2^ 15 = 32768\n"
     ]
    }
   ],
   "source": [
    "# Calcolare e stampare tutte le potenze di 2 minori di 25000\n",
    "numero = 0\n",
    "limite = 25000\n",
    "potenza = 2 ** numero\n",
    "\n",
    "while potenza < limite:\n",
    "    numero += 1\n",
    "    potenza = 2 ** numero\n",
    "    print(\"2^\",numero,\"=\",potenza)\n",
    "\n",
    "\n"
   ]
  },
  {
   "cell_type": "code",
   "execution_count": 5,
   "id": "19c6bfb6-e4cc-47d5-9b8e-e7e0001f22b7",
   "metadata": {},
   "outputs": [
    {
     "name": "stdin",
     "output_type": "stream",
     "text": [
      "scrivi quello che vuoi CIAO STEFANO\n"
     ]
    },
    {
     "name": "stdout",
     "output_type": "stream",
     "text": [
      "CIA ... ANO\n"
     ]
    }
   ],
   "source": [
    "#Scriviamo un programma\n",
    "stringa = input (\"scrivi quello che vuoi\")\n",
    "lunghezza = len(stringa)\n",
    "if lunghezza >= 6 :\n",
    "    print(stringa[:3],\"...\",stringa[-3:])\n",
    "else :\n",
    "    print(\"NON DISPONIBILE\")\n",
    "\n",
    "\n"
   ]
  },
  {
   "cell_type": "code",
   "execution_count": 6,
   "id": "b24409e4-db08-4743-bf69-763c3e7e7df8",
   "metadata": {},
   "outputs": [
    {
     "name": "stdin",
     "output_type": "stream",
     "text": [
      "fornire un numero 150\n"
     ]
    },
    {
     "name": "stdout",
     "output_type": "stream",
     "text": [
      "2\n",
      "3\n",
      "5\n",
      "5\n"
     ]
    }
   ],
   "source": [
    "#Memorizza e stampa tutti i fattori di un numero dato in input ............\n",
    "N= int(input(\"fornire un numero\"))\n",
    "divisore =2\n",
    "while N>1:\n",
    "    while N%divisore==0:\n",
    "        print(divisore)\n",
    "        N=N//divisore\n",
    "    divisore=divisore+1\n",
    "             "
   ]
  },
  {
   "cell_type": "code",
   "execution_count": 14,
   "id": "ea74ee55-4ddf-418c-b076-042564935c8e",
   "metadata": {},
   "outputs": [
    {
     "name": "stdout",
     "output_type": "stream",
     "text": [
      "E\n",
      "p\n",
      "i\n",
      "c\n",
      "o\n",
      "d\n",
      "e\n"
     ]
    }
   ],
   "source": [
    "# Abbiamo la stringa\n",
    "nome_scuola = \"Epicode\"\n",
    "for lettera in nome_scuola :\n",
    "    print(lettera)\n"
   ]
  },
  {
   "cell_type": "code",
   "execution_count": 2,
   "id": "cf816b65-9668-4f84-8217-5048c02f0745",
   "metadata": {},
   "outputs": [
    {
     "name": "stdin",
     "output_type": "stream",
     "text": [
      "SCRIVI UN NUMERO 150\n"
     ]
    },
    {
     "name": "stdout",
     "output_type": "stream",
     "text": [
      "2\n",
      "3\n",
      "5\n",
      "5\n"
     ]
    }
   ],
   "source": [
    "#Esercizio Memorizza e stampa\n",
    "numero = int(input(\"SCRIVI UN NUMERO\"))\n",
    "divisore = 2\n",
    "while numero > 1 :\n",
    "    while numero % divisore == 0 :\n",
    "        print(divisore)\n",
    "        numero = numero // divisore\n",
    "    divisore+=1\n",
    "    \n",
    "\n"
   ]
  },
  {
   "cell_type": "code",
   "execution_count": 8,
   "id": "ae895049-765e-4b57-93bf-99f1d3750e5e",
   "metadata": {},
   "outputs": [
    {
     "name": "stdout",
     "output_type": "stream",
     "text": [
      "2^ 0 = 1\n",
      "2^ 1 = 2\n",
      "2^ 2 = 4\n",
      "2^ 3 = 8\n",
      "2^ 4 = 16\n",
      "2^ 5 = 32\n",
      "2^ 6 = 64\n",
      "2^ 7 = 128\n",
      "2^ 8 = 256\n",
      "2^ 9 = 512\n"
     ]
    }
   ],
   "source": [
    "#Calcolare e stampare tutte le prime 10 potenze di 2 utilizzando un ciclo.\n",
    "for numero in range(10):\n",
    "    print(\"2^\",numero,\"=\",2**numero)\n",
    "                    "
   ]
  },
  {
   "cell_type": "code",
   "execution_count": 13,
   "id": "390c628c-3fec-4ab5-a45a-e71d4c798cdd",
   "metadata": {},
   "outputs": [
    {
     "name": "stdin",
     "output_type": "stream",
     "text": [
      "dammi un numero intero 10\n",
      "potenza 2\n"
     ]
    },
    {
     "name": "stdout",
     "output_type": "stream",
     "text": [
      "[1, 2, 4, 8, 16, 32, 64, 128, 256, 512]\n"
     ]
    }
   ],
   "source": [
    "#Calcolare (ma non stampare) le prime N potenze di K; ognuna di esse andrà memorizzata in coda a una lista.\n",
    "n = int(input(\"dammi un numero intero\"))\n",
    "k = int(input(\"potenza\"))\n",
    "potenza = []\n",
    "\n",
    "for numero in range(n):\n",
    "      potenza.append(k**numero)\n",
    "    \n",
    "print(potenza)\n",
    "        \n",
    "        "
   ]
  },
  {
   "cell_type": "code",
   "execution_count": 19,
   "id": "57b6b070-19ca-4ada-bfeb-bb36a72460ee",
   "metadata": {},
   "outputs": [
    {
     "name": "stdin",
     "output_type": "stream",
     "text": [
      "dammi un numero intero 10\n",
      "potenza 2\n"
     ]
    },
    {
     "name": "stdout",
     "output_type": "stream",
     "text": [
      "[1, 2, 4, 8, 16, 32, 64, 128, 256, 512]\n"
     ]
    }
   ],
   "source": [
    "#Calcolare (ma non stampare) le prime N potenze di K; ognuna di esse andrà memorizzata in coda a una lista.\n",
    "n = int(input(\"dammi un numero intero\"))\n",
    "k = int(input(\"potenza\"))\n",
    "potenza = []\n",
    "numero = 0\n",
    "while numero < n:\n",
    "    potenza.append(k**numero)\n",
    "    numero+=1\n",
    "print(potenza)\n"
   ]
  },
  {
   "cell_type": "code",
   "execution_count": 25,
   "id": "cbfa5148-8ab4-4421-902c-1ea1c7ff4cb9",
   "metadata": {},
   "outputs": [
    {
     "name": "stdout",
     "output_type": "stream",
     "text": [
      "70\n"
     ]
    }
   ],
   "source": [
    "#Abbiamo una lista con i guadagni degli ultimi 12 mesi:\n",
    "guadagni = [100, 90, 70, 40, 50, 80, 90, 120, 80, 20, 50, 50]\n",
    "somma = 0\n",
    "numero_elementi = 0\n",
    "\n",
    "for guadagno in guadagni:\n",
    "    somma = somma + guadagno\n",
    "    numero_elementi +=1\n",
    "print(somma//numero_elementi)\n"
   ]
  },
  {
   "cell_type": "code",
   "execution_count": 1,
   "id": "88235c3a-c17f-49b4-bd60-6acbff73b043",
   "metadata": {},
   "outputs": [
    {
     "name": "stdout",
     "output_type": "stream",
     "text": [
      "Nella parola Albergo la lettera e compare 1 volte\n",
      "Nella parola Sedia la lettera e compare 1 volte\n",
      "Nella parola Borgo la lettera e compare 0 volte\n",
      "Nella parola Petalo la lettera e compare 1 volte\n",
      "Nella parola Eremo la lettera e compare 2 volte\n",
      "Nella parola Belvedere la lettera e compare 4 volte\n",
      "Nella parola Semestre la lettera e compare 3 volte\n",
      "Nella parola Esteta la lettera e compare 2 volte\n",
      "Nella parola Sosta la lettera e compare 0 volte\n",
      "Nella parola Orpello la lettera e compare 1 volte\n",
      "Nella parola Abete la lettera e compare 2 volte\n",
      "Nella parola Orologio la lettera e compare 0 volte\n",
      "Nella parola Cesta la lettera e compare 1 volte\n",
      "Nella parola Ermellino la lettera e compare 2 volte\n"
     ]
    }
   ],
   "source": [
    "# Abbiamo una lista di parole\n",
    "parole = [\"Albergo\", \"Sedia\", \"Borgo\", \"Petalo\", \"Eremo\", \"Belvedere\", \"Semestre\", \"Esteta\", \"Sosta\", \"Orpello\", \"Abete\", \"Orologio\", \"Cesta\", \"Ermellino\"]\n",
    "lettera= \"e\"\n",
    "contatore=0\n",
    "for parola in parole:\n",
    "    contatore= parola.lower().count(lettera)\n",
    "    print(\"Nella parola\",parola,\"la lettera\",lettera,\"compare\",contatore,\"volte\")"
   ]
  },
  {
   "cell_type": "code",
   "execution_count": 3,
   "id": "65dd3da7-2225-4478-9ae0-625438ca83a3",
   "metadata": {},
   "outputs": [
    {
     "name": "stdout",
     "output_type": "stream",
     "text": [
      "{'Ada': 'Punto', 'ben': 'Multipla', 'Chiarlie': 'Golf', 'Debby': '107'}\n",
      "107\n"
     ]
    }
   ],
   "source": [
    "#Creiamo un dizionario che assegni ad ogni proprietario la sua auto, sapendo che\n",
    "Dizionario = {\"Ada\":\"Punto\",\n",
    "              \"ben\":\"Multipla\",\n",
    "              \"Chiarlie\":\"Golf\",\n",
    "              \"Debby\":\"107\"}\n",
    "print(Dizionario)\n",
    "print(Dizionario.get(\"Debby\"))\n"
   ]
  },
  {
   "cell_type": "code",
   "execution_count": 2,
   "id": "c9552237-579c-4ce5-946b-2b14789884f4",
   "metadata": {},
   "outputs": [
    {
     "name": "stdout",
     "output_type": "stream",
     "text": [
      "Punto\n",
      "Golf\n",
      "107\n"
     ]
    }
   ],
   "source": [
    "dizionario_auto = {\"Ada\":\"Punto\",\"Ben\":\"Multipla\",\"Charlie\":\"Golf\",\"Debbie\":\"107\"}\n",
    "\n",
    "for auto in dizionario_auto.values():\n",
    "    if auto != \"Multipla\":\n",
    "        print(auto)\n",
    "    \n"
   ]
  },
  {
   "cell_type": "code",
   "execution_count": 1,
   "id": "c297edd8-015d-4f34-8490-1218dbd55181",
   "metadata": {},
   "outputs": [
    {
     "name": "stdout",
     "output_type": "stream",
     "text": [
      "{'Ada': 'Punto', 'Ben': 'Polo', 'Charlie': 'Golf', 'Debbie': '107', 'Emily': 'A1', 'Fred': 'Octavia', 'Grace': 'Yaris', 'Hugh': 'Clio'}\n"
     ]
    }
   ],
   "source": [
    "#Abbiamo due dizionari che assegnano ad ogni proprietario la propria auto:\n",
    "dizionario_auto = {\"Ada\": \"Punto\", \"Ben\": \"Multipla\", \"Charlie\": \"Golf\", \"Debbie\": \"107\", \"Emily\": \"A1\"} \n",
    "nuovi_proprietari = {\"Ben\": \"Polo\", \"Fred\": \"Octavia\", \"Grace\": \"Yaris\", \"Hugh\": \"Clio\"}\n",
    "\n",
    "dizionario_auto.update(nuovi_proprietari)\n",
    "print(dizionario_auto)\n",
    "\n"
   ]
  },
  {
   "cell_type": "code",
   "execution_count": null,
   "id": "dc0208b7-6d27-419b-999c-1fe80499d5ab",
   "metadata": {},
   "outputs": [],
   "source": []
  }
 ],
 "metadata": {
  "kernelspec": {
   "display_name": "Python 3 (ipykernel)",
   "language": "python",
   "name": "python3"
  },
  "language_info": {
   "codemirror_mode": {
    "name": "ipython",
    "version": 3
   },
   "file_extension": ".py",
   "mimetype": "text/x-python",
   "name": "python",
   "nbconvert_exporter": "python",
   "pygments_lexer": "ipython3",
   "version": "3.12.7"
  }
 },
 "nbformat": 4,
 "nbformat_minor": 5
}
