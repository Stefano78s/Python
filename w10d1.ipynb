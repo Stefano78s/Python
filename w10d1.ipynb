{
 "cells": [
  {
   "cell_type": "code",
   "execution_count": 1,
   "id": "2ef5950b-373a-425b-bccf-bbf39e718325",
   "metadata": {},
   "outputs": [
    {
     "name": "stdout",
     "output_type": "stream",
     "text": [
      "13\n"
     ]
    }
   ],
   "source": [
    "#Abbiamo una lista di liste:\n",
    "\n",
    "mat = [[0, 1, 2, 3, 4], \n",
    "       [5, 6, 7, 8, 9], \n",
    "       [10, 11, 12, 13, 14]]\n",
    "\n",
    "print(mat[2][3])\n",
    "\n",
    "\n",
    "\n",
    "#Che tipo di struttura dati o matematica potrebbe rappresentare? MATRICE"
   ]
  },
  {
   "cell_type": "code",
   "execution_count": 2,
   "id": "69db7b3f-943f-48d9-8b50-48f2dacd1d79",
   "metadata": {},
   "outputs": [
    {
     "name": "stdout",
     "output_type": "stream",
     "text": [
      "0.8939966636005579\n",
      "-0.5984600690578581\n",
      "3628800\n",
      "3.141592653589793\n",
      "Help on built-in function sin in module math:\n",
      "\n",
      "sin(x, /)\n",
      "    Return the sine of x (measured in radians).\n",
      "\n"
     ]
    }
   ],
   "source": [
    "#Importiamo il modulo math e proviamo a usare le funzioni .sin() .cos() .factorial()\n",
    "\n",
    "import math\n",
    "print(math.sin(90))\n",
    "print(math.cos(180))\n",
    "print(math.factorial(10))\n",
    "print(math.pi)\n",
    "\n",
    "\n",
    "help(math.sin)"
   ]
  },
  {
   "cell_type": "code",
   "execution_count": 4,
   "id": "a675577d-7c43-4902-9f1f-90cfcdbbafd2",
   "metadata": {},
   "outputs": [
    {
     "data": {
      "text/plain": [
       "180.0"
      ]
     },
     "execution_count": 4,
     "metadata": {},
     "output_type": "execute_result"
    }
   ],
   "source": [
    "#converte un angolo da radianti a gradi\n",
    "\n",
    "math.degrees(math.pi)"
   ]
  },
  {
   "cell_type": "code",
   "execution_count": 5,
   "id": "c1f7054f-3919-473f-be66-ca5e05c9ef48",
   "metadata": {},
   "outputs": [
    {
     "name": "stdout",
     "output_type": "stream",
     "text": [
      "Help on built-in function degrees in module math:\n",
      "\n",
      "degrees(x, /)\n",
      "    Convert angle x from radians to degrees.\n",
      "\n"
     ]
    }
   ],
   "source": [
    "help(math.degrees)"
   ]
  },
  {
   "cell_type": "code",
   "execution_count": 6,
   "id": "f43a50da-9b32-4da6-b160-c5ede9e268be",
   "metadata": {},
   "outputs": [
    {
     "name": "stdout",
     "output_type": "stream",
     "text": [
      "[2000 5500 7200 4320 1280 1900 2500 3900 6410 8150 7100 5350]\n",
      "8150\n",
      "1280\n",
      "6\n",
      "4\n",
      "4634.166666666667\n"
     ]
    }
   ],
   "source": [
    "# L'azienda Object SpA \n",
    "\n",
    "import numpy as np\n",
    "lst = [2000, 5500, 7200, 4320, 1280, 1900, 2500, 3900, 6410, 8150, 7100, 5350]\n",
    "lst = np.array(lst)\n",
    "\n",
    "print(lst)\n",
    "\n",
    "print(lst.max())\n",
    "print(lst.min())\n",
    "\n",
    "vendite_mensili_maggiori = lst > 5000\n",
    "lst[vendite_mensili_maggiori]\n",
    "print(len(lst[vendite_mensili_maggiori]))\n",
    "\n",
    "vendite_mensili_minori = lst < 3000\n",
    "lst[vendite_mensili_minori]\n",
    "print(len(lst[vendite_mensili_minori]))\n",
    "\n",
    "print(lst.mean())"
   ]
  },
  {
   "cell_type": "code",
   "execution_count": 7,
   "id": "837d55ba-7484-4c2a-9891-05c8ca53b5e9",
   "metadata": {},
   "outputs": [
    {
     "name": "stdout",
     "output_type": "stream",
     "text": [
      "1997    12000\n",
      "1998    15000\n",
      "1999    20000\n",
      "2000    23000\n",
      "2001    25000\n",
      "2002    17000\n",
      "2003    14000\n",
      "2004    21000\n",
      "dtype: int64\n",
      "17000\n",
      "17000\n"
     ]
    },
    {
     "data": {
      "text/plain": [
       "numpy.int64"
      ]
     },
     "execution_count": 7,
     "metadata": {},
     "output_type": "execute_result"
    }
   ],
   "source": [
    "#Consideriamo il seguente dizionario:\n",
    "import pandas as pd\n",
    "fatturati_dict = {1997: 12_000, \n",
    "                  1998: 15_000, \n",
    "                  1999: 20_000, \n",
    "                  2000: 23_000, \n",
    "                  2001: 25_000, \n",
    "                  2002: 17_000, \n",
    "                  2003: 14_000, \n",
    "                  2004: 21_000}\n",
    "\n",
    "fatturati_series = pd.Series([12_000, 15_000, 20_000, 23_000, 25_000, 17_000, 14_000, 21_000],\n",
    "index=range(1997, 2005))\n",
    "\n",
    "fatturati_dict[1997] \n",
    "fatturati_series[1997]\n",
    "print(fatturati_series)\n",
    "\n",
    "print(fatturati_dict[2002])\n",
    "print(fatturati_series[2002])\n",
    "\n",
    "type(fatturati_dict[1997])\n",
    "type(fatturati_series[1997])\n",
    "\n",
    "# la differenza sostanziale e che con la serie posso fare tutte le operazioni statistiche garfici filtri...."
   ]
  },
  {
   "cell_type": "code",
   "execution_count": 8,
   "id": "f8ce44b1-e203-487f-a795-b48f91edfbb1",
   "metadata": {},
   "outputs": [
    {
     "name": "stdout",
     "output_type": "stream",
     "text": [
      "[ 200  400  600  800 1000 1200 1400 1600 1800 2000]\n",
      "200\n",
      "400\n",
      "600\n",
      "800\n",
      "1000\n",
      "1200\n",
      "1400\n",
      "1600\n",
      "1800\n",
      "2000\n"
     ]
    }
   ],
   "source": [
    "# L'azienda Object SpA ha un dataset\n",
    "import numpy as np\n",
    "stipendi = np.array( [100, 200, 300, 400, 500,  600, 700, 800, 900, 1000] )\n",
    "\n",
    "stipendi_radd = stipendi * 2\n",
    "print(stipendi_radd)\n",
    "\n",
    "for stipendio in stipendi:\n",
    "    print(stipendio * 2)"
   ]
  },
  {
   "cell_type": "code",
   "execution_count": 9,
   "id": "a000c0f9-cf04-4d25-a53a-415acc8e636f",
   "metadata": {},
   "outputs": [
    {
     "name": "stdout",
     "output_type": "stream",
     "text": [
      "[85, 78, 66]\n"
     ]
    }
   ],
   "source": [
    "lista_numeri = [10,45,56,2,15,85,78,20,66]\n",
    "lista_numeri_Ordinata = sorted(lista_numeri,reverse = True)\n",
    "\n",
    "if len(lista_numeri_Ordinata) <=3:\n",
    "    print(\"Lista corta\")\n",
    "else:\n",
    "    print(lista_numeri_Ordinata[:3])"
   ]
  },
  {
   "cell_type": "code",
   "execution_count": 10,
   "id": "3c1766a7-85a3-4930-aa92-70b357746c2e",
   "metadata": {},
   "outputs": [
    {
     "name": "stdin",
     "output_type": "stream",
     "text": [
      "inserisci numero 30\n"
     ]
    },
    {
     "name": "stdout",
     "output_type": "stream",
     "text": [
      "la lista dei numeri >= 30 è 66.0\n"
     ]
    }
   ],
   "source": [
    "#in input acquisisce una lista di numeri e un numero K\n",
    "import numpy as np\n",
    "lista = [10,45,56,2,15,85,78,20,66]\n",
    "k = int(input(\"inserisci numero\"))\n",
    "lista = np.array(lista)\n",
    "filtro = lista >= k\n",
    "media=lista[filtro].mean()\n",
    "if len(filtro)== 0:\n",
    "    print(\"non ci sono numeri > di K\")\n",
    "else:\n",
    "    print(\"la lista dei numeri >=\",k,\"è\",media)"
   ]
  },
  {
   "cell_type": "code",
   "execution_count": 11,
   "id": "b368acf7-b6a6-498e-9611-6da87aa0e030",
   "metadata": {},
   "outputs": [
    {
     "name": "stdout",
     "output_type": "stream",
     "text": [
      "******\n",
      "********\n",
      "**********\n",
      "***\n"
     ]
    }
   ],
   "source": [
    "numeri = [6,8,10,3]\n",
    "for numero in numeri:\n",
    "    print(numero*\"*\")"
   ]
  },
  {
   "cell_type": "code",
   "execution_count": 12,
   "id": "317cde73-e407-4559-b1c4-c5f6ccf0e0bd",
   "metadata": {},
   "outputs": [
    {
     "name": "stdout",
     "output_type": "stream",
     "text": [
      "['ABCDEF95G01A123B', 'STUVWX95Z04A654E', 'DEFGHI95J06A987G']\n",
      "nome ABC cognome DEF\n",
      "nome GHI cognome JKL\n",
      "nome MNO cognome PQR\n",
      "nome STU cognome VWX\n",
      "nome XYZ cognome ABC\n",
      "nome DEF cognome GHI\n"
     ]
    }
   ],
   "source": [
    "#Abbiamo una lista di codici fiscali:\n",
    "lista_cf = [\"ABCDEF95G01A123B\", \"GHIJKL91M02A321C\", \"MNOPQR89S03A456D\", \"STUVWX95Z04A654E\", \"XYZABC01D05A789F\", \"DEFGHI95J06A987G\"]\n",
    "lista_cf_nuova=[]\n",
    "for cf in lista_cf:\n",
    "    if \"95\" in cf:\n",
    "        lista_cf_nuova.append(cf)\n",
    "        \n",
    "print(lista_cf_nuova)\n",
    "for cf in lista_cf:\n",
    "    print(\"nome\",cf[0:3],\"cognome\",cf[3:6])"
   ]
  },
  {
   "cell_type": "code",
   "execution_count": 13,
   "id": "cef3a4ab-3212-41e6-9943-8d0598cbdfe7",
   "metadata": {},
   "outputs": [
    {
     "name": "stdout",
     "output_type": "stream",
     "text": [
      "Alex\n",
      "Faith\n"
     ]
    }
   ],
   "source": [
    "#Abbiamo tre liste della stessa lunghezza\n",
    "studenti = [\"Alex\", \"Bob\", \"Cindy\", \"Dan\", \"Emma\", \"Faith\", \"Grace\", \"Henry\"] \n",
    "corsi = [\"Cybersecurity\", \"Data Analyst\", \"Backend\", \"Frontend\", \"Data Analyst\", \"Backend\", \"Frontend\", \"Cybersecurity\"] \n",
    "edizioni = [1, 2, 3, 2, 2, 1, 3, 3]\n",
    "\n",
    "for indice in range(len(studenti)):\n",
    "    edizione=edizioni[indice]\n",
    "    studente=studenti[indice]\n",
    "    if edizione==1:\n",
    "        print(studente)"
   ]
  },
  {
   "cell_type": "code",
   "execution_count": 14,
   "id": "f385279a-d1ef-4168-90a8-01b7fc1caca0",
   "metadata": {},
   "outputs": [
    {
     "name": "stdout",
     "output_type": "stream",
     "text": [
      "['100 $', '200 $', '500 $', '10 $', '50 $', '70 $']\n"
     ]
    }
   ],
   "source": [
    "#Abbiamo una lista di stringhe di prezzi in dollari\n",
    "prezzi = [\"100 €\", \"200 €\", \"500 €\", \"10 €\", \"50 €\", \"70 €\"]\n",
    "prezzi_dollari = []\n",
    "for prezzo in prezzi:\n",
    "    prezzo_dollari=prezzo.replace(\"€\",\"$\")\n",
    "    prezzi_dollari.append(prezzo_dollari)\n",
    "    \n",
    "print(prezzi_dollari)"
   ]
  },
  {
   "cell_type": "code",
   "execution_count": 15,
   "id": "3162f16a-0138-49fa-b9fb-88619f5ad3c0",
   "metadata": {},
   "outputs": [
    {
     "name": "stdout",
     "output_type": "stream",
     "text": [
      "la prima squadra, è composta da ['Alex', 'Cindy', 'Emma', 'Grace', 'Isabelle']\n",
      "la prima squadra, è composta da ['Bob', 'Dan', 'Faith', 'Henry', 'John']\n"
     ]
    }
   ],
   "source": [
    "#Abbiamo una lista di studenti:\n",
    "studenti = [\"Alex\", \"Bob\", \"Cindy\", \"Dan\", \"Emma\", \"Faith\", \"Grace\", \"Henry\", \"Isabelle\", \"John\"]\n",
    "squadra1= studenti[0::2]\n",
    "squadra2= studenti[1::2]\n",
    "print(\"la prima squadra, è composta da\",squadra1)\n",
    "print(\"la prima squadra, è composta da\",squadra2)"
   ]
  },
  {
   "cell_type": "code",
   "execution_count": 16,
   "id": "5dc058fb-e4ce-40b3-95f1-2ec4d57eaa14",
   "metadata": {},
   "outputs": [
    {
     "name": "stdout",
     "output_type": "stream",
     "text": [
      "Guadagno del Mese 1 è 100\n",
      "Guadagno del Mese 2 è 90 è la media è maggiore del del guadagno\n",
      "Guadagno del Mese 3 è 70 è la media è maggiore del del guadagno\n",
      "Guadagno del Mese 4 è 40 è la media è maggiore del del guadagno\n",
      "Guadagno del Mese 5 è 50 è la media è maggiore del del guadagno\n",
      "Guadagno del Mese 6 è 80 è la media è minore del guadagno\n",
      "Guadagno del Mese 7 è 90 è la media è minore del guadagno\n",
      "Guadagno del Mese 8 è 120 è la media è minore del guadagno\n",
      "Guadagno del Mese 9 è 80 è la media è maggiore del del guadagno\n",
      "Guadagno del Mese 10 è 20 è la media è maggiore del del guadagno\n",
      "Guadagno del Mese 11 è 50 è la media è maggiore del del guadagno\n",
      "Guadagno del Mese 12 è 50 è la media è maggiore del del guadagno\n"
     ]
    }
   ],
   "source": [
    "import numpy as np\n",
    "guadagni = [100, 90, 70, 40, 50, 80, 90, 120, 80, 20, 50, 50]\n",
    "precedenti = []\n",
    "mese=1\n",
    "for guadagno in guadagni:\n",
    "    if len(precedenti)==0:\n",
    "        print(\"Guadagno del Mese 1 è\",guadagno)\n",
    "    else:\n",
    "        media_mesi_precedenti=np.mean(precedenti)\n",
    "        if media_mesi_precedenti < guadagno:\n",
    "            print(\"Guadagno del Mese\",mese,\"è\",guadagno,\"è la media è minore del guadagno\")\n",
    "        else:\n",
    "            print(\"Guadagno del Mese\",mese,\"è\",guadagno,\"è la media è maggiore del del guadagno\")\n",
    "    precedenti.append(guadagno)\n",
    "    mese+=1\n",
    "\n",
    "\n"
   ]
  },
  {
   "cell_type": "code",
   "execution_count": null,
   "id": "cd61782a-63fb-4ba4-833f-94c794875faf",
   "metadata": {},
   "outputs": [],
   "source": []
  }
 ],
 "metadata": {
  "kernelspec": {
   "display_name": "Python [conda env:base] *",
   "language": "python",
   "name": "conda-base-py"
  },
  "language_info": {
   "codemirror_mode": {
    "name": "ipython",
    "version": 3
   },
   "file_extension": ".py",
   "mimetype": "text/x-python",
   "name": "python",
   "nbconvert_exporter": "python",
   "pygments_lexer": "ipython3",
   "version": "3.13.5"
  }
 },
 "nbformat": 4,
 "nbformat_minor": 5
}
