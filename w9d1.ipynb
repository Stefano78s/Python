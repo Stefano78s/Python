{
 "cells": [
  {
   "cell_type": "code",
   "execution_count": 11,
   "id": "0b9de2bb-87ef-4953-90ad-f0260d3bd51b",
   "metadata": {},
   "outputs": [
    {
     "name": "stdout",
     "output_type": "stream",
     "text": [
      "25\n",
      "3\n",
      "28\n"
     ]
    }
   ],
   "source": [
    "# esercizio 2\n",
    "\n",
    "studenti = 25\n",
    "nuovi_studenti = 3\n",
    "totale_studenti = studenti + nuovi_studenti\n",
    "print(studenti)\n",
    "print(nuovi_studenti)\n",
    "print(totale_studenti)"
   ]
  },
  {
   "cell_type": "code",
   "execution_count": 13,
   "id": "32d7c48d-4719-42e0-a175-a504c163745d",
   "metadata": {},
   "outputs": [
    {
     "name": "stdout",
     "output_type": "stream",
     "text": [
      "Epicode\n"
     ]
    }
   ],
   "source": [
    "# esercizio 3\n",
    "scuola = \"Epicode\"\n",
    "print(scuola)"
   ]
  },
  {
   "cell_type": "code",
   "execution_count": 4,
   "id": "9bc89965-aafd-4bb7-95f3-11543f5cf0ef",
   "metadata": {},
   "outputs": [
    {
     "name": "stdout",
     "output_type": "stream",
     "text": [
      "36\n"
     ]
    }
   ],
   "source": [
    "# esercizio 4\n",
    "x = 10\n",
    "x = x + 2\n",
    "x = x * 3\n",
    "print(x)\n",
    "\n",
    "\n"
   ]
  },
  {
   "cell_type": "code",
   "execution_count": 27,
   "id": "ce9fad88-6730-44ba-a1d4-b287d5f4f2bd",
   "metadata": {},
   "outputs": [
    {
     "name": "stdout",
     "output_type": "stream",
     "text": [
      "7\n",
      "5\n",
      "10\n",
      "4\n",
      "Windows Excel Powerpoint Word\n",
      "29\n"
     ]
    }
   ],
   "source": [
    "# esercizio 5\n",
    "str1 = \"Windows\"  \n",
    "str2 = \"Excel\" \n",
    "str3 = \"Powerpoint\" \n",
    "str4 = \"Word\"\n",
    "print(len(str1))\n",
    "print(len(str2))\n",
    "print(len(str3))\n",
    "print(len(str4))\n",
    "print(str1 +\" \"+ str2 +\" \"+ str3 +\" \"+ str4)\n",
    "print(len(str1 +\" \"+ str2 +\" \"+ str3 +\" \"+ str4))\n",
    "      \n",
    "\n"
   ]
  },
  {
   "cell_type": "code",
   "execution_count": 5,
   "id": "5a550d23-c515-439d-b1e7-1dcaae5391aa",
   "metadata": {},
   "outputs": [
    {
     "name": "stdout",
     "output_type": "stream",
     "text": [
      "31536000\n"
     ]
    }
   ],
   "source": [
    "# esercizio 6\n",
    "giorni_anno = 365\n",
    "ore_giorno = 24\n",
    "minuti_ore = 60\n",
    "secondi_minuti = 60\n",
    "secondi_anno = secondi_minuti * minuti_ore * ore_giorno * giorni_anno\n",
    "print(secondi_anno)\n"
   ]
  },
  {
   "cell_type": "code",
   "execution_count": 6,
   "id": "a0399764-1032-49e1-8fa7-2cfb2bdaef78",
   "metadata": {},
   "outputs": [
    {
     "name": "stdout",
     "output_type": "stream",
     "text": [
      "I am studying Python\n"
     ]
    }
   ],
   "source": [
    "# esercizio 7\n",
    "my_string = \"I am studying Python\"\n",
    "print(my_string)\n"
   ]
  },
  {
   "cell_type": "code",
   "execution_count": 7,
   "id": "97061d2e-5129-4701-a64c-4c457f75e51a",
   "metadata": {},
   "outputs": [
    {
     "name": "stdout",
     "output_type": "stream",
     "text": [
      "I AM STUDYING PYTHON\n"
     ]
    }
   ],
   "source": [
    "print(my_string.upper())"
   ]
  },
  {
   "cell_type": "code",
   "execution_count": 8,
   "id": "984c74d6-7182-47f9-af99-0bddbc7dc2cb",
   "metadata": {},
   "outputs": [
    {
     "name": "stdout",
     "output_type": "stream",
     "text": [
      "i am studying python\n"
     ]
    }
   ],
   "source": [
    "print(my_string.lower())"
   ]
  },
  {
   "cell_type": "code",
   "execution_count": 9,
   "id": "d1cda78e-88b6-4bae-8e49-968aa5eb8e50",
   "metadata": {},
   "outputs": [
    {
     "name": "stdout",
     "output_type": "stream",
     "text": [
      "I am studying A lot\n"
     ]
    }
   ],
   "source": [
    "nuovo = my_string.replace(\"Python\",\"A lot\")\n",
    "print(nuovo)"
   ]
  },
  {
   "cell_type": "code",
   "execution_count": 10,
   "id": "54540719-84bb-43b4-b69e-04e40fe3db73",
   "metadata": {},
   "outputs": [
    {
     "name": "stdout",
     "output_type": "stream",
     "text": [
      "I am studying A lot\n"
     ]
    }
   ],
   "source": [
    "print(nuovo.strip())"
   ]
  },
  {
   "cell_type": "code",
   "execution_count": 11,
   "id": "4d7cace3-714a-444a-8f75-c3dd6a0a2869",
   "metadata": {},
   "outputs": [
    {
     "name": "stdout",
     "output_type": "stream",
     "text": [
      "['I', 'am', 'studying', 'A', 'lot']\n"
     ]
    }
   ],
   "source": [
    "print(nuovo.split())"
   ]
  },
  {
   "cell_type": "code",
   "execution_count": 24,
   "id": "a70fc0ab-c34a-4382-8ed1-304a92b2235f",
   "metadata": {},
   "outputs": [
    {
     "name": "stdout",
     "output_type": "stream",
     "text": [
      "Emma segue Data Analyst\n",
      "Faith segue Backend\n",
      "Grace segue Frontend\n",
      "Henry segue Cybersecurity\n",
      "['Cybersecurity', 'Data Analyst', 'Backend', 'Frontend', 'Data Analyst', 'Backend', 'Excel', 'SQL']\n",
      "Alex segue Excel\n",
      "Bob segue SQL\n",
      "Emma segue Data Analyst\n",
      "Faith segue Backend\n",
      "Grace segue Frontend\n",
      "Henry segue Cybersecurity\n",
      "Alex segue Excel\n",
      "Bob segue SQL\n"
     ]
    }
   ],
   "source": [
    "# esercizio 8\n",
    "studenti = [\"Alex\", \"Bob\", \"Cindy\", \"Dan\", \"Emma\", \"Faith\", \"Grace\", \"Henry\"] \n",
    "corsi = [\"Cybersecurity\", \"Data Analyst\", \"Backend\", \"Frontend\", \"Data Analyst\", \"Backend\"]\n",
    "\n",
    "print(studenti[4], \"segue\", corsi[1])\n",
    "print(studenti[5], \"segue\", corsi[2])\n",
    "print(studenti[6], \"segue\", corsi[3])\n",
    "print(studenti[7], \"segue\", corsi[0])\n",
    "\n",
    "corsi.append(\"Excel\")\n",
    "corsi.append(\"SQL\")\n",
    "print(corsi)\n",
    "print(studenti[0], \"segue\", corsi[6])\n",
    "print(studenti[1], \"segue\", corsi[7])\n",
    "\n",
    "print(studenti[4], \"segue\", corsi[1])\n",
    "print(studenti[5], \"segue\", corsi[2])\n",
    "print(studenti[6], \"segue\", corsi[3])\n",
    "print(studenti[7], \"segue\", corsi[0])\n",
    "print(studenti[0], \"segue\", corsi[6])\n",
    "print(studenti[1], \"segue\", corsi[7])\n",
    "\n",
    "\n",
    "\n",
    " \n",
    "\n"
   ]
  },
  {
   "cell_type": "code",
   "execution_count": 1,
   "id": "6f9fd5be-bac1-4d56-be43-b43c72f95650",
   "metadata": {},
   "outputs": [
    {
     "name": "stdout",
     "output_type": "stream",
     "text": [
      "Luigi si avvicina alla macchinetta degli snack, e nota che ci sono diverse golosità, tra cui le patatine al formaggio e le gocce di cioccolato. Opta per le patatine che costano 2.0 ed inserisce la banconota 5.0\n",
      "A Luigi vengono restituiti 3.0\n"
     ]
    }
   ],
   "source": [
    "# acquistare uno snack da un distributore automatico\n",
    "nome = \"Luigi\"\n",
    "azione = \"si avvicina alla macchinetta degli snack, e nota che\"\n",
    "contenitore = \"ci sono diverse golosità, tra cui le patatine al formaggio e le gocce di cioccolato.\"\n",
    "prezzo1 = 1.5\n",
    "prezzo2 = 2.0\n",
    "decisione = \"Opta per le patatine che costano\"\n",
    "azione2 = \"ed inserisce la banconota\"\n",
    "banconota = 5.0\n",
    "resto = banconota - prezzo2\n",
    "print(nome + \" \" + azione + \" \" + contenitore + \" \" + decisione + \" \" + str(prezzo2) + \" \" + azione2 + \" \" + str(banconota))\n",
    "print(\"A\",nome, \"vengono restituiti\" , float(resto))"
   ]
  },
  {
   "cell_type": "code",
   "execution_count": null,
   "id": "d0e5b50f-53c6-466c-9791-63c76ebd816b",
   "metadata": {},
   "outputs": [],
   "source": []
  }
 ],
 "metadata": {
  "kernelspec": {
   "display_name": "Python 3 (ipykernel)",
   "language": "python",
   "name": "python3"
  },
  "language_info": {
   "codemirror_mode": {
    "name": "ipython",
    "version": 3
   },
   "file_extension": ".py",
   "mimetype": "text/x-python",
   "name": "python",
   "nbconvert_exporter": "python",
   "pygments_lexer": "ipython3",
   "version": "3.12.7"
  }
 },
 "nbformat": 4,
 "nbformat_minor": 5
}
